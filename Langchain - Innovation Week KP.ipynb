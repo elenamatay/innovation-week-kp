{
 "cells": [
  {
   "cell_type": "code",
   "execution_count": null,
   "id": "0144ce91-fdfa-4a7f-8bbf-384e2c089f7c",
   "metadata": {
    "tags": []
   },
   "outputs": [],
   "source": [
    "#!pip install -r requirements.txt"
   ]
  },
  {
   "cell_type": "markdown",
   "id": "e5e42718-c96a-4ede-9ce2-420ea969d7f0",
   "metadata": {},
   "source": [
    "# Introduction"
   ]
  },
  {
   "cell_type": "code",
   "execution_count": null,
   "id": "4d57dea3-ef7f-4a0a-98fa-7db206459f77",
   "metadata": {},
   "outputs": [],
   "source": [
    "from langchain.llms import VertexAI\n",
    "llm = VertexAI(temperature=0)"
   ]
  },
  {
   "cell_type": "code",
   "execution_count": null,
   "id": "6cf03e7a-1a38-4360-8a29-eadf6b6afc26",
   "metadata": {},
   "outputs": [],
   "source": [
    "message = \"Hello my name is Sergio. I am from Barcelona and I work at Google.\"\n",
    "msg_template = \"\"\"\n",
    "Given an input message, find the name, company name and location and extract them as output.\n",
    "message: {message}\n",
    "\"\"\""
   ]
  },
  {
   "cell_type": "code",
   "execution_count": null,
   "id": "4509db2c-eeba-4d37-83d1-c3d8e604a3fc",
   "metadata": {},
   "outputs": [],
   "source": [
    "from langchain.prompts import PromptTemplate\n",
    "\n",
    "prompt_template = PromptTemplate.from_template(msg_template)"
   ]
  },
  {
   "cell_type": "code",
   "execution_count": null,
   "id": "4f70d679-2c38-47e8-b57e-5151e52d8564",
   "metadata": {},
   "outputs": [],
   "source": [
    "chain = prompt_template | llm\n",
    "response = chain.invoke({\"message\": message})\n",
    "print(response)"
   ]
  },
  {
   "cell_type": "code",
   "execution_count": null,
   "id": "ec21e63c-e54f-4686-96e3-d6cf13672e27",
   "metadata": {},
   "outputs": [],
   "source": [
    "from langchain.output_parsers import ResponseSchema\n",
    "from langchain.output_parsers import StructuredOutputParser\n",
    "\n",
    "name_schema = ResponseSchema(name=\"name\",\n",
    "                             description=\"What is the name of the sender of the message?\")\n",
    "company_schema = ResponseSchema(name=\"company\",\n",
    "                             description=\"What is the name of the company of the sender of the message?\")\n",
    "location_schema = ResponseSchema(name=\"location\",\n",
    "                             description=\"What is the location of the sender of the message?\")\n",
    "response_schemas = [name_schema, company_schema, location_schema]\n",
    "output_parser = StructuredOutputParser.from_response_schemas(response_schemas)\n",
    "format_instructions = output_parser.get_format_instructions()\n",
    "print(format_instructions)"
   ]
  },
  {
   "cell_type": "code",
   "execution_count": null,
   "id": "ef00bce2-7c8d-4d12-b89e-dcdfb5a9c1fb",
   "metadata": {},
   "outputs": [],
   "source": [
    "msg_template = \"\"\"\n",
    "Given an introduction message, find the name, company name and location and extract them as output.\n",
    "message: {message}\n",
    "\n",
    "{format_instructions}\n",
    "\"\"\"\n",
    "prompt_template = PromptTemplate.from_template(msg_template)"
   ]
  },
  {
   "cell_type": "code",
   "execution_count": null,
   "id": "e093fd63-0fd3-484f-917d-e3fc9ae67613",
   "metadata": {},
   "outputs": [],
   "source": [
    "chain = prompt_template | llm\n",
    "response = chain.invoke({\"message\": message, \"format_instructions\": format_instructions})\n",
    "print(response)"
   ]
  },
  {
   "cell_type": "code",
   "execution_count": null,
   "id": "e4fbb4eb-5626-4d51-8e77-27d464f9aa14",
   "metadata": {},
   "outputs": [],
   "source": [
    "output_dict = output_parser.parse(response)\n",
    "print(output_dict)\n",
    "output_dict.get(\"name\")"
   ]
  },
  {
   "cell_type": "markdown",
   "id": "7c41691b-56e3-4d40-8bb6-a90dcf450f09",
   "metadata": {
    "tags": []
   },
   "source": [
    "# Mmeory"
   ]
  },
  {
   "cell_type": "code",
   "execution_count": null,
   "id": "bd18238c-f539-4746-941e-60bc506be28b",
   "metadata": {},
   "outputs": [],
   "source": [
    "llm(\"My name is Sergio\")"
   ]
  },
  {
   "cell_type": "code",
   "execution_count": null,
   "id": "9934c60c-0d97-4f58-b4aa-bac642d4a9a9",
   "metadata": {},
   "outputs": [],
   "source": [
    "llm(\"What is my name?\")"
   ]
  },
  {
   "cell_type": "code",
   "execution_count": null,
   "id": "705b8a0a-6409-47b2-ac59-7d9eb127b502",
   "metadata": {},
   "outputs": [],
   "source": [
    "from langchain.chat_models import ChatOpenAI\n",
    "from langchain.chains import ConversationChain\n",
    "from langchain.memory import ConversationBufferMemory"
   ]
  },
  {
   "cell_type": "code",
   "execution_count": null,
   "id": "e459a9f0-132d-4f4e-b8d3-eceb1c1450e9",
   "metadata": {},
   "outputs": [],
   "source": [
    "memory = ConversationBufferMemory()\n",
    "conversation = ConversationChain(\n",
    "    llm=llm, \n",
    "    memory = memory,\n",
    "    verbose=True\n",
    ")"
   ]
  },
  {
   "cell_type": "code",
   "execution_count": null,
   "id": "a1a353f3-80cb-477e-99fa-73f9c20b6fff",
   "metadata": {},
   "outputs": [],
   "source": [
    "conversation.predict(input=\"My name is Sergio\")"
   ]
  },
  {
   "cell_type": "code",
   "execution_count": null,
   "id": "bb1f9cf8-dcf8-43f9-a637-a17ad9317fb1",
   "metadata": {},
   "outputs": [],
   "source": [
    "conversation.predict(input=\"What is my name?\")"
   ]
  },
  {
   "cell_type": "code",
   "execution_count": null,
   "id": "1b80dfc1-75b0-4a5f-8d73-d3ebc2406f0e",
   "metadata": {},
   "outputs": [],
   "source": [
    "print(memory.buffer)"
   ]
  },
  {
   "cell_type": "markdown",
   "id": "13df50d3-6f5b-4606-be6b-9e14a3b4c5c5",
   "metadata": {},
   "source": [
    "# Chains"
   ]
  },
  {
   "cell_type": "code",
   "execution_count": null,
   "id": "ecc62ae6-8098-4eed-ab81-699a5ebbb914",
   "metadata": {},
   "outputs": [],
   "source": [
    "from langchain.chains import SequentialChain\n",
    "from langchain.prompts import PromptTemplate\n",
    "from langchain.chains import LLMChain\n",
    "\n",
    "chain_one = LLMChain(llm=llm, prompt=prompt_template, output_key=\"json_values\", output_parser=output_parser, verbose=True)\n",
    "print(chain_one.output_keys)"
   ]
  },
  {
   "cell_type": "code",
   "execution_count": null,
   "id": "4a85c98c-4f89-479a-814d-97d342effd34",
   "metadata": {},
   "outputs": [],
   "source": [
    "response = chain_one.invoke({\"message\": message, \"format_instructions\": format_instructions})\n",
    "print(response.get(\"json_values\"))"
   ]
  },
  {
   "cell_type": "code",
   "execution_count": null,
   "id": "6abc80d7-e8fc-4977-8fdd-0725543f26f4",
   "metadata": {},
   "outputs": [],
   "source": [
    "prompt_2 = \"\"\"\n",
    "What is the main language is spoken at the location found at {json_values}?\n",
    "\n",
    "Example: London\n",
    "Result: English\n",
    "\"\"\"\n",
    "prompt_2_template = PromptTemplate.from_template(prompt_2)\n",
    "chain_two = LLMChain(llm=llm, prompt=prompt_2_template, output_key=\"language\", verbose=True)"
   ]
  },
  {
   "cell_type": "code",
   "execution_count": null,
   "id": "a29ccb08-fd4b-42c0-a9e8-7d2075773869",
   "metadata": {},
   "outputs": [],
   "source": [
    "response_2 = chain_two.invoke({\"json_values\": response.get(\"json_values\")})\n",
    "print(response_2.get(\"language\"))"
   ]
  },
  {
   "cell_type": "code",
   "execution_count": null,
   "id": "a3404600-b5ce-4ed7-b6a9-0722d1eb0f0f",
   "metadata": {},
   "outputs": [],
   "source": [
    "prompt_3 = \"\"\"\n",
    "Given a {json_values} write a welcome message addressed to the name, from the company that person works.\n",
    "\"\"\"\n",
    "prompt_3_template = PromptTemplate.from_template(prompt_3)\n",
    "chain_three = LLMChain(llm=llm, prompt=prompt_3_template, output_key=\"welcome\", verbose=True)"
   ]
  },
  {
   "cell_type": "code",
   "execution_count": null,
   "id": "86041fd5-0c56-4ded-9f49-86012513b772",
   "metadata": {},
   "outputs": [],
   "source": [
    "response_3 = chain_three.invoke({\"json_values\": response.get(\"json_values\")})\n",
    "print(response_3.get(\"welcome\"))"
   ]
  },
  {
   "cell_type": "code",
   "execution_count": null,
   "id": "dbb79205-324e-4232-99da-79314f5d3071",
   "metadata": {},
   "outputs": [],
   "source": [
    "prompt_4 = \"\"\"\n",
    "Translate {welcome} to {language}.\n",
    "\"\"\"\n",
    "prompt_4_template = PromptTemplate.from_template(prompt_4)\n",
    "chain_four = LLMChain(llm=llm, prompt=prompt_4_template, output_key=\"translated\", verbose=True)"
   ]
  },
  {
   "cell_type": "code",
   "execution_count": null,
   "id": "9865933a-f662-4f18-a631-44cabdfeaa2e",
   "metadata": {},
   "outputs": [],
   "source": [
    "response_4 = chain_four.invoke({\"welcome\": response_3.get(\"welcome\"), \"language\": response_2.get(\"language\")})\n",
    "print(response_4.get(\"translated\"))"
   ]
  },
  {
   "cell_type": "code",
   "execution_count": null,
   "id": "1410e8ca-8fa2-4ca1-98e5-ca92c0432b7f",
   "metadata": {},
   "outputs": [],
   "source": [
    "overall_chain = SequentialChain(\n",
    "    chains=[chain_one, chain_two, chain_three, chain_four],\n",
    "    input_variables=[\"message\", \"format_instructions\"],\n",
    "    output_variables=[\"json_values\", \"language\",\"welcome\", \"translated\"],\n",
    "    verbose=True\n",
    ")"
   ]
  },
  {
   "cell_type": "code",
   "execution_count": null,
   "id": "081032c8-365c-4198-9256-dc3b201dd50d",
   "metadata": {},
   "outputs": [],
   "source": [
    "result = overall_chain.invoke({\"message\": message, \"format_instructions\": format_instructions})"
   ]
  },
  {
   "cell_type": "code",
   "execution_count": null,
   "id": "de50c020-d3e8-49bd-aae2-9ef40664df7a",
   "metadata": {},
   "outputs": [],
   "source": [
    "print(result.get(\"translated\"))"
   ]
  },
  {
   "cell_type": "markdown",
   "id": "8996578d-bd34-41d5-8760-9f983f297ed1",
   "metadata": {},
   "source": [
    "# Agents"
   ]
  },
  {
   "cell_type": "code",
   "execution_count": null,
   "id": "d9a8f942-ac8f-4d3d-8b40-9bb772335eed",
   "metadata": {},
   "outputs": [],
   "source": [
    "from langchain.agents import tool\n",
    "from langchain.agents import initialize_agent\n",
    "from langchain.agents import AgentType\n",
    "import uuid"
   ]
  },
  {
   "cell_type": "code",
   "execution_count": null,
   "id": "3b0eb6a3-2f24-43f9-8823-228df5122064",
   "metadata": {},
   "outputs": [],
   "source": [
    "@tool\n",
    "def validate_client(client: str = None) -> bool:\n",
    "    \"\"\"Always validate the client first. The company name must be given by the user. When a user claims to work at a company, checks if a client is in a list of accepted clients. If no user or not validated, stop. The user is validated if the return is True, it is not validated if it is False\"\"\"\n",
    "    clients = [\"ACME\", \"Google\"]\n",
    "    return client in clients\n",
    "\n",
    "@tool\n",
    "def get_code(client: str) -> str:\n",
    "    \"\"\"After validating that the client is accepted, generate an access code and return it.\"\"\"\n",
    "    code = client.upper() + '#' + str(uuid.uuid4())\n",
    "    return code"
   ]
  },
  {
   "cell_type": "code",
   "execution_count": null,
   "id": "1c2db423-4c3c-4ed3-9dbc-de03687baf71",
   "metadata": {},
   "outputs": [],
   "source": [
    "agent = initialize_agent(\n",
    "    [validate_client, get_code], \n",
    "    llm, \n",
    "    agent=AgentType.CHAT_ZERO_SHOT_REACT_DESCRIPTION,\n",
    "    handle_parsing_errors=True,\n",
    "    verbose = True)"
   ]
  },
  {
   "cell_type": "code",
   "execution_count": null,
   "id": "8af40c2b-91ef-4272-947c-f25a8a3a3b3b",
   "metadata": {},
   "outputs": [],
   "source": [
    "agent_result = agent(\"Is Google an accepted client?\")"
   ]
  },
  {
   "cell_type": "code",
   "execution_count": null,
   "id": "b680c48f-50ad-49f3-8f96-6854669371b1",
   "metadata": {},
   "outputs": [],
   "source": [
    "agent_result = agent(\"I work at Google, give me a code\")"
   ]
  },
  {
   "cell_type": "code",
   "execution_count": null,
   "id": "032d7ece-7439-40cf-b330-a987cfca20a6",
   "metadata": {},
   "outputs": [],
   "source": [
    "agent_result = agent(\"I work at Giigles, give a code\")\n",
    "print(agent_result)"
   ]
  },
  {
   "cell_type": "code",
   "execution_count": null,
   "id": "9fff2415-3ca7-45ac-a52c-8d21c61ef73a",
   "metadata": {},
   "outputs": [],
   "source": [
    "overall_chain = SequentialChain(\n",
    "    chains=[chain_one, chain_two, chain_three, chain_four, agent],\n",
    "    input_variables=[\"message\", \"format_instructions\", \"input\"],\n",
    "    output_variables=[\"json_values\", \"language\",\"welcome\", \"translated\", \"output\"],\n",
    "    verbose=True\n",
    ")"
   ]
  },
  {
   "cell_type": "code",
   "execution_count": null,
   "id": "4bf78c5a-1705-4100-905b-1d0a0b683e4c",
   "metadata": {},
   "outputs": [],
   "source": [
    "overall_chain.invoke({\"message\": message, \"format_instructions\": format_instructions, 'input': \"Google\"})"
   ]
  }
 ],
 "metadata": {
  "environment": {
   "kernel": "conda-root-py",
   "name": "workbench-notebooks.m111",
   "type": "gcloud",
   "uri": "gcr.io/deeplearning-platform-release/workbench-notebooks:m111"
  },
  "kernelspec": {
   "display_name": "Python 3",
   "language": "python",
   "name": "conda-root-py"
  },
  "language_info": {
   "codemirror_mode": {
    "name": "ipython",
    "version": 3
   },
   "file_extension": ".py",
   "mimetype": "text/x-python",
   "name": "python",
   "nbconvert_exporter": "python",
   "pygments_lexer": "ipython3",
   "version": "3.10.12"
  }
 },
 "nbformat": 4,
 "nbformat_minor": 5
}
